{
 "cells": [
  {
   "cell_type": "code",
   "execution_count": 2,
   "metadata": {},
   "outputs": [
    {
     "name": "stderr",
     "output_type": "stream",
     "text": [
      "<ipython-input-2-0491b77a8b88>:14: FutureWarning: The default value of regex will change from True to False in a future version.\n",
      "  df['stakes'] = df['stakes'].str.replace('\\$', '').str.replace(',','').str.replace('None','0').astype(float)\n"
     ]
    }
   ],
   "source": [
    "import pandas as pd\n",
    "import numpy as np\n",
    "pd.set_option('display.max_colwidth', None)\n",
    "\n",
    "df = pd.read_csv('jeopardy.csv')\n",
    "df.rename(columns={\n",
    "    'Show Number' : 'show_number', ' Air Date' : 'air_date',\n",
    "    ' Round' : 'jeopardy_round',\n",
    "    ' Category' : 'category',\n",
    "    ' Value' : 'stakes',\n",
    "    ' Question' : 'question',\n",
    "    ' Answer' : 'answer'}, inplace=True\n",
    ")\n",
    "df['stakes'] = df['stakes'].str.replace('\\$', '').str.replace(',','').str.replace('None','0').astype(float)"
   ]
  },
  {
   "cell_type": "code",
   "execution_count": 3,
   "metadata": {},
   "outputs": [
    {
     "name": "stdout",
     "output_type": "stream",
     "text": [
      "<class 'pandas.core.frame.DataFrame'>\n",
      "Int64Index: 7409 entries, 34 to 216916\n",
      "Data columns (total 7 columns):\n",
      " #   Column          Non-Null Count  Dtype  \n",
      "---  ------          --------------  -----  \n",
      " 0   show_number     7409 non-null   int64  \n",
      " 1   air_date        7409 non-null   object \n",
      " 2   jeopardy_round  7409 non-null   object \n",
      " 3   category        7409 non-null   object \n",
      " 4   stakes          7409 non-null   float64\n",
      " 5   question        7409 non-null   object \n",
      " 6   answer          7409 non-null   object \n",
      "dtypes: float64(1), int64(1), object(5)\n",
      "memory usage: 463.1+ KB\n",
      "None\n",
      "    show_number    air_date    jeopardy_round                    category  \\\n",
      "34         4680  2004-12-31  Double Jeopardy!                 \"X\"s & \"O\"s   \n",
      "40         4680  2004-12-31  Double Jeopardy!  DR. SEUSS AT THE MULTIPLEX   \n",
      "50         4680  2004-12-31  Double Jeopardy!  DR. SEUSS AT THE MULTIPLEX   \n",
      "\n",
      "    stakes  \\\n",
      "34   400.0   \n",
      "40  1200.0   \n",
      "50  2000.0   \n",
      "\n",
      "                                                                                                                                                                             question  \\\n",
      "34                                                                              Around 100 A.D. Tacitus wrote a book on how this art of persuasive speaking had declined since Cicero   \n",
      "40  <a href=\"http://www.j-archive.com/media/2004-12-31_DJ_26.mp3\">Ripped from today's headlines, he was a turtle king gone mad; Mack was the one good turtle who'd bring him down</a>   \n",
      "50                <a href=\"http://www.j-archive.com/media/2004-12-31_DJ_24.mp3\">\"500 Hats\"... 500 ways to die.  On July 4th, this young boy will defy a king... & become a legend</a>   \n",
      "\n",
      "                 answer  \n",
      "34              oratory  \n",
      "40               Yertle  \n",
      "50  Bartholomew Cubbins  \n",
      "<class 'pandas.core.frame.DataFrame'>\n",
      "Int64Index: 7409 entries, 34 to 216916\n",
      "Data columns (total 7 columns):\n",
      " #   Column          Non-Null Count  Dtype  \n",
      "---  ------          --------------  -----  \n",
      " 0   show_number     7409 non-null   int64  \n",
      " 1   air_date        7409 non-null   object \n",
      " 2   jeopardy_round  7409 non-null   object \n",
      " 3   category        7409 non-null   object \n",
      " 4   stakes          7409 non-null   float64\n",
      " 5   question        7409 non-null   object \n",
      " 6   answer          7409 non-null   object \n",
      "dtypes: float64(1), int64(1), object(5)\n",
      "memory usage: 463.1+ KB\n",
      "None\n"
     ]
    }
   ],
   "source": [
    "#Define a function that takes in a list of search words and a dataframe and returns the rows in which the question contains all of those words\n",
    "def question_search(word_list, dataframe):\n",
    "    results = df\n",
    "    for word in word_list:\n",
    "        results = results.loc[df['question'].str.contains(word, case=False)]\n",
    "        print(results.info())\n",
    "        \n",
    "    return results\n",
    "    \n",
    "print(question_search(['King'], df).head(3))\n",
    "#print(question_search(['King'], df).stakes.mean())\n",
    "king_questions = question_search(['King'], df)\n"
   ]
  },
  {
   "cell_type": "code",
   "execution_count": 76,
   "metadata": {},
   "outputs": [
    {
     "name": "stdout",
     "output_type": "stream",
     "text": [
      "5268 unique answers\n"
     ]
    }
   ],
   "source": [
    "#Write a function that returns the count of the unique answers to all of the questions in a dataset\n",
    "\n",
    "def count_unique(dataframe):\n",
    "    print(dataframe.answer.nunique(), 'unique answers')\n",
    "count_unique(king_questions)\n",
    "    "
   ]
  },
  {
   "cell_type": "code",
   "execution_count": 131,
   "metadata": {},
   "outputs": [
    {
     "name": "stdout",
     "output_type": "stream",
     "text": [
      "Word:  Teflon 90s:  5.286809410520751e-05 00s:  8.811349017534584e-05\n"
     ]
    }
   ],
   "source": [
    "#How many questions from the 90s use the word \"Computer\" compared to questions from the 2000s?\n",
    "\n",
    "def decade_compare(word, dataframe):\n",
    "    dataframe90s = dataframe.loc[dataframe['air_date'].str.contains('199')]\n",
    "    dataframe00s = dataframe.loc[dataframe['air_date'].str.contains('200')]\n",
    "    total90s = dataframe90s.shape[0]\n",
    "    total00s = len(dataframe90s.index)\n",
    "    dataframe90s_word = dataframe90s.loc[dataframe90s['question'].str.contains(word, case=False)]\n",
    "    dataframe00s_word = dataframe00s.loc[dataframe00s['question'].str.contains(word, case=False)]\n",
    "    \n",
    "    percent90s =  dataframe90s_word.shape[0] / float(total90s)\n",
    "    percent00s = len(dataframe00s_word.index) / float(total00s)\n",
    "    \n",
    "    print('Word: ', word, '90s: ', percent90s, '00s: ', percent00s)\n",
    "\n",
    "decade_compare('Teflon', df)"
   ]
  },
  {
   "cell_type": "code",
   "execution_count": 1,
   "metadata": {},
   "outputs": [],
   "source": [
    "#Are you more likely to find certain categories, like \"Literature\" in Single Jeopardy or Double Jeopardy\n",
    "def count_unique_cats(dataframe):\n",
    "    print(dataframe.category.nunique(), 'unique categories')\n",
    "#count_unique_cats(df)\n",
    "\n",
    "#find the N most common categories. start with one:\n",
    "#method1: loop over all 200k records, looping each time through all 200k, to add up the number of instances of each category (slow)\n",
    "#method2: create a list of lists to put (category, num_of). go through all 200k records, adding categories or adding a +1 to the num of cats.\n",
    "#method3: google for useful pandas functions\n",
    "#method4: list comprehensions? looks like that won't work https://stackoverflow.com/questions/16476924/how-to-iterate-over-rows-in-a-dataframe-in-pandas\n",
    "#method5: groupby operation\n",
    "#def find_common_cats2(number_of_cats, dataframe):\n",
    "#    list_of_cats = []\n",
    "##    for row in dataframe:\n",
    "#        list_of_cats.append(dataframe['category'])\n",
    "#    print(list_of_cats[0])\n",
    "#print(df.head(5))\n",
    "def find_common_cats5(num_of_cats, dataframe):\n",
    "    #print(dataframe.groupby('category').aggregate(np.size))\n",
    "    #print(dataframe.groupby('category').apply(lambda x: np.size(x) > 10))\n",
    "    #print(dataframe.groupby(['category', 'jeopardy_round']).apply(lambda x: np.size(x) > 35)) #what is this lambda function measuring?\n",
    "    newdf = dataframe.groupby(['category', 'jeopardy_round']).size().reset_index()\n",
    "    newdf.rename(columns={0:'count_of'}, inplace=True)\n",
    "    newdf = newdf.sort_values('count_of', ascending=False).reset_index()\n",
    "    \n",
    "    #in order to get 'literature' DJ and SJ next to each other, could do a groupby on just category, then sort it by count, then export \n",
    "    #category as a list. Then could use that list as an index, or sort by it or something, against the df grouped by cat and jeo.\n",
    "    \n",
    "    #or, could rearrange so that double jep has its own column. to do this, create two separate dataframes, then do a merge.\n",
    "    single_jeo_df = newdf.loc[newdf['jeopardy_round'] == 'Jeopardy!']\n",
    "    single_jeo_df.rename(columns={'count_of':'count_of_single_jep'}, inplace=True)\n",
    "    single_jeo_df.drop(['jeopardy_round', 'index'], inplace=True, axis=1)\n",
    "    double_jeo_df = newdf.loc[newdf['jeopardy_round'] == 'Double Jeopardy!']\n",
    "    double_jeo_df.rename(columns={'count_of':'count_of_double_jep'}, inplace=True)\n",
    "    double_jeo_df.drop(['jeopardy_round', 'index'], inplace=True, axis=1)\n",
    "\n",
    "    \n",
    "    reshaped_df = pd.merge(single_jeo_df, double_jeo_df, how='outer')\n",
    "    \n",
    "    #print(newdf.head(20))\n",
    "    print(reshaped_df.head(50))\n",
    "    print(reshaped_df.tail(10))\n",
    "    \n",
    "#find_common_cats5(3, df)\n",
    "    \n",
    "    \n",
    "    \n"
   ]
  },
  {
   "cell_type": "code",
   "execution_count": 4,
   "metadata": {},
   "outputs": [
    {
     "name": "stdout",
     "output_type": "stream",
     "text": [
      "                                              question\n",
      "category                    jeopardy_round            \n",
      " A JIM CARREY FILM FESTIVAL Jeopardy!                5\n",
      "\"!\"                         Jeopardy!                5\n",
      "\"-ARES\"                     Double Jeopardy!         5\n",
      "\"-ICIAN\" EXPEDITION         Jeopardy!                5\n",
      "\"...OD\" WORDS               Double Jeopardy!         5\n",
      "...                                                ...\n",
      "“R” MOVIES                  Double Jeopardy!         5\n",
      "“SAINTS”                    Double Jeopardy!         4\n",
      "“SOUTH”                     Double Jeopardy!         5\n",
      "“STREETS”                   Jeopardy!                5\n",
      "“WH”AT IS IT?               Double Jeopardy!         5\n",
      "\n",
      "[31686 rows x 1 columns]\n"
     ]
    }
   ],
   "source": [
    "#continued, with method6 from https://stackoverflow.com/questions/35236213/how-to-compare-group-sizes-in-pandas\n",
    "\n",
    "#results = df.groupby(['category', 'jeopardy_round']).agg({'question':pd.Series.count})\n",
    "#print(results)"
   ]
  },
  {
   "cell_type": "code",
   "execution_count": null,
   "metadata": {},
   "outputs": [
    {
     "name": "stdout",
     "output_type": "stream",
     "text": [
      "This pair has been selling books in stores \"Since 1873\" & on the internet since 1997\n",
      "--> Simon and Schuster\n",
      "I'm sorry that's incorrect. You've lost  400.0 points.\n",
      "keep playing? Y/Ny\n",
      "On Dec. 23, 1921 President Harding pardoned this Socialist so that he could have Christmas dinner with his wife\n",
      "--> Turing\n",
      "I'm sorry that's incorrect. You've lost  500.0 points.\n",
      "keep playing? Y/Ny\n",
      "Beverly Cleary wrote several books about Beatrice, called Beezus, & this younger sister of hers\n",
      "--> Boobo\n",
      "I'm sorry that's incorrect. You've lost  800.0 points.\n",
      "keep playing? Y/Ny\n",
      "First produced in 1920, this Shaw comedy takes place in the unconventional home of elderly Capt. Shotover\n",
      "--> old man\n",
      "I'm sorry that's incorrect. You've lost  1000.0 points.\n"
     ]
    }
   ],
   "source": [
    "#Grab random questions, and use the input function to get a response from the user. \n",
    "#Check to see if that response was right or wrong.\n",
    "#1. select a question at random, print it. 2. get input. 3. compare input to answer, determine correctness. 4. output correctness\n",
    "score = 0\n",
    "keep_playing = 'y'\n",
    "while keep_playing == 'y':\n",
    "    random_question_row = df.sample()\n",
    "    random_question = random_question_row.question.values[0]\n",
    "    random_answer = random_question_row.answer.values[0]\n",
    "\n",
    "    print(random_question_row['question'].values[0])\n",
    "    user_response = input('--> ')\n",
    "\n",
    "\n",
    "    if user_response.lower() == random_answer.lower():\n",
    "        print('correct! ', random_question_row.stakes.values[0], 'points for you.')\n",
    "        score = score + random_question_row.stakes.values[0]\n",
    "    else:\n",
    "        print(\"I'm sorry that's incorrect. You've lost \", random_question_row.stakes.values[0], 'points.')\n",
    "        score = score - random_question_row.stakes.values[0]\n",
    "    keep_playing = input('keep playing? Y/N: ').lower()\n",
    "\n",
    "print('Thanks for playing! your final score was ', score)"
   ]
  },
  {
   "cell_type": "code",
   "execution_count": null,
   "metadata": {},
   "outputs": [],
   "source": []
  }
 ],
 "metadata": {
  "kernelspec": {
   "display_name": "Python 3",
   "language": "python",
   "name": "python3"
  },
  "language_info": {
   "codemirror_mode": {
    "name": "ipython",
    "version": 3
   },
   "file_extension": ".py",
   "mimetype": "text/x-python",
   "name": "python",
   "nbconvert_exporter": "python",
   "pygments_lexer": "ipython3",
   "version": "3.8.5"
  }
 },
 "nbformat": 4,
 "nbformat_minor": 4
}
